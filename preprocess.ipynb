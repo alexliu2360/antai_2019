{
 "cells": [
  {
   "cell_type": "code",
   "execution_count": null,
   "metadata": {},
   "outputs": [],
   "source": [
    "import numpy as np\n",
    "import pandas as pd\n",
    "%matplotlib inline"
   ]
  },
  {
   "cell_type": "code",
   "execution_count": null,
   "metadata": {},
   "outputs": [],
   "source": [
    "data_path = '../data/'\n",
    "test_round1_filepath = data_path + 'round1_test.csv'\n",
    "train_round1_filepath = data_path + 'round1_train.csv'\n",
    "item_attr_round1_filepath = data_path + 'round1_item_attr.csv'"
   ]
  },
  {
   "cell_type": "code",
   "execution_count": null,
   "metadata": {},
   "outputs": [],
   "source": [
    "df_train = pd.read_csv(train_round1_filepath)"
   ]
  },
  {
   "cell_type": "code",
   "execution_count": null,
   "metadata": {},
   "outputs": [],
   "source": [
    "df_test = pd.read_csv(test_round1_filepath)\n",
    "df_item_attr = pd.read_csv(item_attr_round1_filepath)"
   ]
  },
  {
   "cell_type": "code",
   "execution_count": null,
   "metadata": {},
   "outputs": [],
   "source": [
    "print(\"shape:test=%r, train=%r, item_attr=%r\" %(df_test.shape, df_train.shape, df_item_attr.shape))"
   ]
  },
  {
   "cell_type": "code",
   "execution_count": null,
   "metadata": {},
   "outputs": [],
   "source": [
    "df_train.head()"
   ]
  },
  {
   "cell_type": "code",
   "execution_count": null,
   "metadata": {},
   "outputs": [],
   "source": [
    "df_item_attr.head()"
   ]
  },
  {
   "cell_type": "markdown",
   "metadata": {},
   "source": [
    "### shu ju tan suo"
   ]
  },
  {
   "cell_type": "code",
   "execution_count": null,
   "metadata": {},
   "outputs": [],
   "source": [
    "def onehot_column(df, column_name):\n",
    "    mapping = {label: idx for idx,label in enumerate(set(df[column_name]))}\n",
    "    df[column_name] = df[column_name].map(mapping)"
   ]
  },
  {
   "cell_type": "code",
   "execution_count": null,
   "metadata": {},
   "outputs": [],
   "source": [
    "def get_item(df, id_str, id_num):\n",
    "    return df.loc[df[id_str] == id_num]"
   ]
  },
  {
   "cell_type": "code",
   "execution_count": null,
   "metadata": {},
   "outputs": [],
   "source": [
    "def get_buyer_admin_id_in2country(df):\n",
    "    grp_mean = df.groupby('buyer_admin_id')['buyer_country_id'].agg(np.mean)\n",
    "    buyer_in2country_admin_id = grp_mean[grp_mean != 1][grp_mean != 0].index\n",
    "    return buyer_in2country_admin_id"
   ]
  },
  {
   "cell_type": "code",
   "execution_count": null,
   "metadata": {
    "scrolled": true
   },
   "outputs": [],
   "source": [
    "def drop_buyer_in2country(df):\n",
    "    assert isinstance(df, pd.DataFrame)\n",
    "    grp_mean = df.groupby('buyer_admin_id')['buyer_country_id'].agg(np.mean)\n",
    "    buyer_in2country_admin_id = grp_mean[grp_mean != 1][grp_mean != 0].index\n",
    "    buyer_in2country_index = df[df['buyer_admin_id'].isin(buyer_in2country_admin_id.to_list())].index.to_list()\n",
    "    df.drop(index=buyer_in2country_index, inplace=True)"
   ]
  },
  {
   "cell_type": "code",
   "execution_count": null,
   "metadata": {},
   "outputs": [],
   "source": [
    "def get_train_data(train, test):\n",
    "    onehot_column(train, 'buyer_country_id')\n",
    "    onehot_column(df_test, 'buyer_country_id')\n",
    "    drop_buyer_in2country(train)\n",
    "    drop_buyer_in2country(test)\n",
    "    # to_datetime\n",
    "    train['create_order_time'] = pd.to_datetime(train['create_order_time'])\n",
    "    test['create_order_time'] = pd.to_datetime(test['create_order_time'])\n",
    "    # sort\n",
    "    train.sort_values(by=['buyer_admin_id','create_order_time'], inplace=True)\n",
    "    test.sort_values(by=['buyer_admin_id', 'create_order_time'], inplace=True)\n",
    "    return train, test"
   ]
  },
  {
   "cell_type": "code",
   "execution_count": null,
   "metadata": {
    "scrolled": true
   },
   "outputs": [],
   "source": [
    "# ceshi \n",
    "grp_train_admin_id = df_train.groupby(['buyer_admin_id', 'buyer_country_id'])\n",
    "get_item(grp_train_admin_id.size().reset_index(), 'buyer_admin_id', 10773)"
   ]
  },
  {
   "cell_type": "code",
   "execution_count": null,
   "metadata": {},
   "outputs": [],
   "source": [
    "df_train, df_test = get_train_data(df_train, df_test)"
   ]
  },
  {
   "cell_type": "code",
   "execution_count": null,
   "metadata": {},
   "outputs": [],
   "source": [
    "get_item(df_train, 'buyer_admin_id', 1).sort_values(by='irank')"
   ]
  },
  {
   "cell_type": "code",
   "execution_count": null,
   "metadata": {},
   "outputs": [],
   "source": [
    "get_item(df_test, 'buyer_admin_id', 152).sort_values(by='irank')"
   ]
  },
  {
   "cell_type": "code",
   "execution_count": null,
   "metadata": {
    "scrolled": true
   },
   "outputs": [],
   "source": [
    "df_test['buyer_admin_id'].value_counts().sort_index()"
   ]
  },
  {
   "cell_type": "code",
   "execution_count": null,
   "metadata": {},
   "outputs": [],
   "source": [
    "get_item(df_test, 'buyer_admin_id', 282).sort_values(by='irank')"
   ]
  },
  {
   "cell_type": "code",
   "execution_count": null,
   "metadata": {},
   "outputs": [],
   "source": []
  }
 ],
 "metadata": {
  "kernelspec": {
   "display_name": "Python 3",
   "language": "python",
   "name": "python3"
  },
  "language_info": {
   "codemirror_mode": {
    "name": "ipython",
    "version": 3
   },
   "file_extension": ".py",
   "mimetype": "text/x-python",
   "name": "python",
   "nbconvert_exporter": "python",
   "pygments_lexer": "ipython3",
   "version": "3.7.3"
  }
 },
 "nbformat": 4,
 "nbformat_minor": 2
}
